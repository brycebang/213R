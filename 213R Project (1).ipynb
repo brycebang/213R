{
 "cells": [
  {
   "cell_type": "code",
   "execution_count": 616,
   "metadata": {},
   "outputs": [],
   "source": [
    "import pandas as pd\n",
    "import numpy as np\n",
    "import matplotlib.pyplot as plt\n",
    "%matplotlib inline\n",
    "import scipy as sp\n",
    "\n",
    "from sklearn import linear_model\n",
    "from sklearn import metrics\n",
    "from sklearn.grid_search import GridSearchCV\n",
    "\n",
    "import seaborn as sns\n",
    "import missingno as msno\n",
    "\n",
    "from sklearn.neighbors import KNeighborsClassifier, KNeighborsRegressor\n",
    "from sklearn.ensemble import RandomForestClassifier\n",
    "from sklearn.model_selection import train_test_split\n",
    "from sklearn.metrics import f1_score, classification_report, accuracy_score, mean_squared_error\n",
    "import pprint\n",
    "from sklearn.metrics import precision_recall_fscore_support"
   ]
  },
  {
   "cell_type": "code",
   "execution_count": 617,
   "metadata": {},
   "outputs": [],
   "source": [
    "fulldf= pd.read_csv(\"C:/Users/Izzy/Desktop/213R/project1.csv\")\n",
    "df= pd.read_csv(\"C:/Users/Izzy/Desktop/213R/project1.csv\")"
   ]
  },
  {
   "cell_type": "code",
   "execution_count": 618,
   "metadata": {},
   "outputs": [
    {
     "data": {
      "text/plain": [
       "pandas.core.series.Series"
      ]
     },
     "execution_count": 618,
     "metadata": {},
     "output_type": "execute_result"
    }
   ],
   "source": [
    "type(df['Pop2013'])"
   ]
  },
  {
   "cell_type": "code",
   "execution_count": 619,
   "metadata": {
    "scrolled": false
   },
   "outputs": [],
   "source": [
    "df=df.replace(',', '' , regex=True)"
   ]
  },
  {
   "cell_type": "code",
   "execution_count": 620,
   "metadata": {
    "scrolled": false
   },
   "outputs": [],
   "source": [
    "df=df.replace('%', '' , regex=True)"
   ]
  },
  {
   "cell_type": "code",
   "execution_count": 621,
   "metadata": {
    "scrolled": false
   },
   "outputs": [],
   "source": [
    "df['GDP_PPP_percapita']=df['GDP_PPP_percapita'].str.replace('$', '')"
   ]
  },
  {
   "cell_type": "code",
   "execution_count": 622,
   "metadata": {},
   "outputs": [
    {
     "data": {
      "text/html": [
       "<div>\n",
       "<style scoped>\n",
       "    .dataframe tbody tr th:only-of-type {\n",
       "        vertical-align: middle;\n",
       "    }\n",
       "\n",
       "    .dataframe tbody tr th {\n",
       "        vertical-align: top;\n",
       "    }\n",
       "\n",
       "    .dataframe thead th {\n",
       "        text-align: right;\n",
       "    }\n",
       "</style>\n",
       "<table border=\"1\" class=\"dataframe\">\n",
       "  <thead>\n",
       "    <tr style=\"text-align: right;\">\n",
       "      <th></th>\n",
       "      <th>cont</th>\n",
       "      <th>name</th>\n",
       "      <th>Pop2013</th>\n",
       "      <th>Area_sqkm</th>\n",
       "      <th>coastline_km</th>\n",
       "      <th>PopGrowthRate</th>\n",
       "      <th>BirthRate</th>\n",
       "      <th>DeathRate</th>\n",
       "      <th>NetMigrationRate</th>\n",
       "      <th>MaternalMortalityRate</th>\n",
       "      <th>IMR</th>\n",
       "      <th>LifeExpectancy</th>\n",
       "      <th>TotalFertilityRate</th>\n",
       "      <th>AdultObesityRate</th>\n",
       "      <th>HealthExpend</th>\n",
       "      <th>ChildUnderwt</th>\n",
       "      <th>ChildUnderwtYr</th>\n",
       "      <th>GDP PPP</th>\n",
       "      <th>GDP_PPP_percapita</th>\n",
       "      <th>Percent Urban</th>\n",
       "    </tr>\n",
       "  </thead>\n",
       "  <tbody>\n",
       "    <tr>\n",
       "      <th>0</th>\n",
       "      <td>Asia</td>\n",
       "      <td>Afghanistan</td>\n",
       "      <td>31108077</td>\n",
       "      <td>652230</td>\n",
       "      <td>0</td>\n",
       "      <td>2.25</td>\n",
       "      <td>39.05</td>\n",
       "      <td>14.35</td>\n",
       "      <td>-2.16</td>\n",
       "      <td>460.0</td>\n",
       "      <td>119.41</td>\n",
       "      <td>50.11</td>\n",
       "      <td>5.54</td>\n",
       "      <td>2.2</td>\n",
       "      <td>7.6</td>\n",
       "      <td>32.9</td>\n",
       "      <td>2004.0</td>\n",
       "      <td>34290000000</td>\n",
       "      <td>1100</td>\n",
       "      <td>23.50</td>\n",
       "    </tr>\n",
       "    <tr>\n",
       "      <th>1</th>\n",
       "      <td>Europe</td>\n",
       "      <td>Albania</td>\n",
       "      <td>3011405</td>\n",
       "      <td>28748</td>\n",
       "      <td>362</td>\n",
       "      <td>0.29</td>\n",
       "      <td>12.57</td>\n",
       "      <td>6.36</td>\n",
       "      <td>-3.32</td>\n",
       "      <td>27.0</td>\n",
       "      <td>13.65</td>\n",
       "      <td>77.77</td>\n",
       "      <td>1.49</td>\n",
       "      <td>21.3</td>\n",
       "      <td>6.6</td>\n",
       "      <td>6.3</td>\n",
       "      <td>2009.0</td>\n",
       "      <td>26540000000</td>\n",
       "      <td>8200</td>\n",
       "      <td>52</td>\n",
       "    </tr>\n",
       "    <tr>\n",
       "      <th>2</th>\n",
       "      <td>Africa</td>\n",
       "      <td>Algeria</td>\n",
       "      <td>38087812</td>\n",
       "      <td>2381741</td>\n",
       "      <td>998</td>\n",
       "      <td>1.90</td>\n",
       "      <td>24.25</td>\n",
       "      <td>4.31</td>\n",
       "      <td>-0.93</td>\n",
       "      <td>97.0</td>\n",
       "      <td>22.57</td>\n",
       "      <td>76.18</td>\n",
       "      <td>2.78</td>\n",
       "      <td>16.0</td>\n",
       "      <td>4.2</td>\n",
       "      <td>3.7</td>\n",
       "      <td>2005.0</td>\n",
       "      <td>277400000000</td>\n",
       "      <td>7600</td>\n",
       "      <td>73</td>\n",
       "    </tr>\n",
       "    <tr>\n",
       "      <th>3</th>\n",
       "      <td>Oceania</td>\n",
       "      <td>American Samoa</td>\n",
       "      <td>54719</td>\n",
       "      <td>199</td>\n",
       "      <td>116</td>\n",
       "      <td>-0.40</td>\n",
       "      <td>22.84</td>\n",
       "      <td>4.62</td>\n",
       "      <td>-22.17</td>\n",
       "      <td>NaN</td>\n",
       "      <td>9.15</td>\n",
       "      <td>74.68</td>\n",
       "      <td>3.04</td>\n",
       "      <td>74.6</td>\n",
       "      <td>NaN</td>\n",
       "      <td>NaN</td>\n",
       "      <td>NaN</td>\n",
       "      <td>575300000</td>\n",
       "      <td>8000</td>\n",
       "      <td>93</td>\n",
       "    </tr>\n",
       "    <tr>\n",
       "      <th>4</th>\n",
       "      <td>Europe</td>\n",
       "      <td>Andorra</td>\n",
       "      <td>85293</td>\n",
       "      <td>468</td>\n",
       "      <td>0</td>\n",
       "      <td>0.22</td>\n",
       "      <td>8.88</td>\n",
       "      <td>6.67</td>\n",
       "      <td>0.00</td>\n",
       "      <td>NaN</td>\n",
       "      <td>3.73</td>\n",
       "      <td>82.58</td>\n",
       "      <td>1.37</td>\n",
       "      <td>25.2</td>\n",
       "      <td>7.5</td>\n",
       "      <td>NaN</td>\n",
       "      <td>NaN</td>\n",
       "      <td>3163000000</td>\n",
       "      <td>37200</td>\n",
       "      <td>88</td>\n",
       "    </tr>\n",
       "  </tbody>\n",
       "</table>\n",
       "</div>"
      ],
      "text/plain": [
       "      cont            name   Pop2013 Area_sqkm coastline_km  PopGrowthRate  \\\n",
       "0     Asia     Afghanistan  31108077    652230            0           2.25   \n",
       "1   Europe         Albania   3011405     28748          362           0.29   \n",
       "2   Africa         Algeria  38087812   2381741          998           1.90   \n",
       "3  Oceania  American Samoa     54719       199          116          -0.40   \n",
       "4   Europe         Andorra     85293       468            0           0.22   \n",
       "\n",
       "   BirthRate  DeathRate  NetMigrationRate  MaternalMortalityRate     IMR  \\\n",
       "0      39.05      14.35             -2.16                  460.0  119.41   \n",
       "1      12.57       6.36             -3.32                   27.0   13.65   \n",
       "2      24.25       4.31             -0.93                   97.0   22.57   \n",
       "3      22.84       4.62            -22.17                    NaN    9.15   \n",
       "4       8.88       6.67              0.00                    NaN    3.73   \n",
       "\n",
       "   LifeExpectancy  TotalFertilityRate  AdultObesityRate  HealthExpend  \\\n",
       "0           50.11                5.54               2.2           7.6   \n",
       "1           77.77                1.49              21.3           6.6   \n",
       "2           76.18                2.78              16.0           4.2   \n",
       "3           74.68                3.04              74.6           NaN   \n",
       "4           82.58                1.37              25.2           7.5   \n",
       "\n",
       "   ChildUnderwt  ChildUnderwtYr       GDP PPP GDP_PPP_percapita Percent Urban  \n",
       "0          32.9          2004.0   34290000000             1100          23.50  \n",
       "1           6.3          2009.0   26540000000             8200             52  \n",
       "2           3.7          2005.0  277400000000             7600             73  \n",
       "3           NaN             NaN     575300000             8000             93  \n",
       "4           NaN             NaN    3163000000            37200             88  "
      ]
     },
     "execution_count": 622,
     "metadata": {},
     "output_type": "execute_result"
    }
   ],
   "source": [
    "df.head()"
   ]
  },
  {
   "cell_type": "code",
   "execution_count": 623,
   "metadata": {},
   "outputs": [],
   "source": [
    "df.loc[:, 'Pop2013':'Percent Urban']= df.loc[:, 'Pop2013':'Percent Urban'].astype(float)"
   ]
  },
  {
   "cell_type": "code",
   "execution_count": 624,
   "metadata": {},
   "outputs": [],
   "source": [
    "df['PopDens']= df['Pop2013']/df['Area_sqkm']"
   ]
  },
  {
   "cell_type": "code",
   "execution_count": 625,
   "metadata": {},
   "outputs": [],
   "source": [
    "df['Coast_Area_Ratio'] = df['coastline_km'] / df['Area_sqkm']"
   ]
  },
  {
   "cell_type": "code",
   "execution_count": 626,
   "metadata": {},
   "outputs": [
    {
     "name": "stdout",
     "output_type": "stream",
     "text": [
      "<class 'pandas.core.frame.DataFrame'>\n",
      "RangeIndex: 223 entries, 0 to 222\n",
      "Data columns (total 22 columns):\n",
      "cont                     223 non-null object\n",
      "name                     223 non-null object\n",
      "Pop2013                  223 non-null float64\n",
      "Area_sqkm                223 non-null float64\n",
      "coastline_km             223 non-null float64\n",
      "PopGrowthRate            223 non-null float64\n",
      "BirthRate                223 non-null float64\n",
      "DeathRate                223 non-null float64\n",
      "NetMigrationRate         220 non-null float64\n",
      "MaternalMortalityRate    183 non-null float64\n",
      "IMR                      222 non-null float64\n",
      "LifeExpectancy           222 non-null float64\n",
      "TotalFertilityRate       222 non-null float64\n",
      "AdultObesityRate         190 non-null float64\n",
      "HealthExpend             190 non-null float64\n",
      "ChildUnderwt             132 non-null float64\n",
      "ChildUnderwtYr           132 non-null float64\n",
      "GDP PPP                  222 non-null float64\n",
      "GDP_PPP_percapita        223 non-null float64\n",
      "Percent Urban            221 non-null float64\n",
      "PopDens                  223 non-null float64\n",
      "Coast_Area_Ratio         223 non-null float64\n",
      "dtypes: float64(20), object(2)\n",
      "memory usage: 38.4+ KB\n"
     ]
    }
   ],
   "source": [
    "df.info()"
   ]
  },
  {
   "cell_type": "code",
   "execution_count": 627,
   "metadata": {},
   "outputs": [
    {
     "data": {
      "text/plain": [
       "<matplotlib.axes._subplots.AxesSubplot at 0x20f2f27df60>"
      ]
     },
     "execution_count": 627,
     "metadata": {},
     "output_type": "execute_result"
    },
    {
     "data": {
      "image/png": "[encoded data removed]",
      "text/plain": [
       "<Figure size 1800x720 with 2 Axes>"
      ]
     },
     "metadata": {},
     "output_type": "display_data"
    }
   ],
   "source": [
    "msno.matrix(fulldf)"
   ]
  },
  {
   "cell_type": "code",
   "execution_count": 628,
   "metadata": {},
   "outputs": [
    {
     "data": {
      "text/plain": [
       "cont                      0\n",
       "name                      0\n",
       "Pop2013                   0\n",
       "Area_sqkm                 0\n",
       "coastline_km              0\n",
       "PopGrowthRate             0\n",
       "BirthRate                 0\n",
       "DeathRate                 0\n",
       "NetMigrationRate          3\n",
       "MaternalMortalityRate    40\n",
       "IMR                       1\n",
       "LifeExpectancy            1\n",
       "TotalFertilityRate        1\n",
       "AdultObesityRate         33\n",
       "HealthExpend             33\n",
       "ChildUnderwt             91\n",
       "ChildUnderwtYr           91\n",
       "GDP PPP                   1\n",
       "GDP_PPP_percapita         0\n",
       "Percent Urban             2\n",
       "PopDens                   0\n",
       "Coast_Area_Ratio          0\n",
       "dtype: int64"
      ]
     },
     "execution_count": 628,
     "metadata": {},
     "output_type": "execute_result"
    }
   ],
   "source": [
    "df.isnull().sum()"
   ]
  },
  {
   "cell_type": "code",
   "execution_count": 629,
   "metadata": {},
   "outputs": [],
   "source": [
    "def mynafill(var):\n",
    "    df[var].fillna((df[var].median()), inplace=True)\n",
    "    \n",
    "    \n",
    "    \n",
    "    \n",
    "    #df[var] = df[var].groupby(df['cont']).fillna(df[var].groupby(df['cont']).mean())"
   ]
  },
  {
   "cell_type": "code",
   "execution_count": 630,
   "metadata": {},
   "outputs": [],
   "source": [
    "mynafill(\"MaternalMortalityRate\")\n",
    "mynafill(\"NetMigrationRate\")\n",
    "mynafill(\"IMR\")\n",
    "mynafill(\"LifeExpectancy\")\n",
    "mynafill(\"TotalFertilityRate\")\n",
    "mynafill(\"AdultObesityRate\")\n",
    "mynafill(\"HealthExpend\")\n",
    "mynafill(\"GDP PPP\")\n",
    "mynafill(\"Percent Urban\")"
   ]
  },
  {
   "cell_type": "code",
   "execution_count": 631,
   "metadata": {},
   "outputs": [
    {
     "name": "stdout",
     "output_type": "stream",
     "text": [
      "cont\n",
      "Africa            87.703880\n",
      "Asia             985.515851\n",
      "Europe           575.802237\n",
      "North America    231.053726\n",
      "Oceania          134.306453\n",
      "South America     38.557558\n",
      "Name: PopDens, dtype: float64\n"
     ]
    }
   ],
   "source": [
    "hi=df['PopDens'].groupby(df['cont']).mean()\n",
    "print(hi)"
   ]
  },
  {
   "cell_type": "code",
   "execution_count": 632,
   "metadata": {
    "scrolled": false
   },
   "outputs": [
    {
     "data": {
      "text/plain": [
       "<matplotlib.axes._subplots.AxesSubplot at 0x20f2f348240>"
      ]
     },
     "execution_count": 632,
     "metadata": {},
     "output_type": "execute_result"
    },
    {
     "data": {
      "image/png": "[encoded data removed]",
      "text/plain": [
       "<Figure size 1800x720 with 2 Axes>"
      ]
     },
     "metadata": {},
     "output_type": "display_data"
    }
   ],
   "source": [
    "msno.matrix(df)"
   ]
  },
  {
   "cell_type": "markdown",
   "metadata": {},
   "source": [
    "df['Percent Urban'] = df['Percent Urban'] / 100\n",
    "df['BirthRate'] = df['BirthRate'] / 1000\n",
    "df['DeathRate'] = df['DeathRate'] / 1000\n",
    "df['PopGrowthRate'] = df['PopGrowthRate'] / 100\n",
    "df['IMR'] = df['IMR'] / 1000\n",
    "df['NetMigrationRate'] = df['NetMigrationRate'] / 1000\n",
    "df['MaternalMortalityRate'] = df['MaternalMortalityRate'] / 100000\n",
    "df['AdultObesityRate'] = df['AdultObesityRate'] / 100\n",
    "df['HealthExpend'] = df['HealthExpend'] / 100"
   ]
  },
  {
   "cell_type": "code",
   "execution_count": 633,
   "metadata": {},
   "outputs": [],
   "source": [
    "df.drop(columns = 'ChildUnderwt', inplace=True)\n",
    "df.drop(columns = 'ChildUnderwtYr', inplace=True)\n",
    "Y=df['cont']\n",
    "name=df['name']\n",
    "X=df\n",
    "X.drop(columns = 'cont', inplace=True)\n",
    "X.drop(columns = 'name', inplace=True)"
   ]
  },
  {
   "cell_type": "code",
   "execution_count": 634,
   "metadata": {},
   "outputs": [
    {
     "name": "stdout",
     "output_type": "stream",
     "text": [
      "['Africa' 'Asia' 'Europe' 'North America' 'Oceania' 'South America']\n"
     ]
    }
   ],
   "source": [
    "print(np.unique(Y))"
   ]
  },
  {
   "cell_type": "code",
   "execution_count": 635,
   "metadata": {
    "scrolled": true
   },
   "outputs": [
    {
     "data": {
      "text/html": [
       "<div>\n",
       "<style scoped>\n",
       "    .dataframe tbody tr th:only-of-type {\n",
       "        vertical-align: middle;\n",
       "    }\n",
       "\n",
       "    .dataframe tbody tr th {\n",
       "        vertical-align: top;\n",
       "    }\n",
       "\n",
       "    .dataframe thead th {\n",
       "        text-align: right;\n",
       "    }\n",
       "</style>\n",
       "<table border=\"1\" class=\"dataframe\">\n",
       "  <thead>\n",
       "    <tr style=\"text-align: right;\">\n",
       "      <th></th>\n",
       "      <th>Pop2013</th>\n",
       "      <th>Area_sqkm</th>\n",
       "      <th>coastline_km</th>\n",
       "      <th>PopGrowthRate</th>\n",
       "      <th>BirthRate</th>\n",
       "      <th>DeathRate</th>\n",
       "      <th>NetMigrationRate</th>\n",
       "      <th>MaternalMortalityRate</th>\n",
       "      <th>IMR</th>\n",
       "      <th>LifeExpectancy</th>\n",
       "      <th>TotalFertilityRate</th>\n",
       "      <th>AdultObesityRate</th>\n",
       "      <th>HealthExpend</th>\n",
       "      <th>GDP PPP</th>\n",
       "      <th>GDP_PPP_percapita</th>\n",
       "      <th>Percent Urban</th>\n",
       "      <th>PopDens</th>\n",
       "      <th>Coast_Area_Ratio</th>\n",
       "    </tr>\n",
       "  </thead>\n",
       "  <tbody>\n",
       "    <tr>\n",
       "      <th>218</th>\n",
       "      <td>2676740.0</td>\n",
       "      <td>5860.0</td>\n",
       "      <td>0.0</td>\n",
       "      <td>2.03</td>\n",
       "      <td>23.81</td>\n",
       "      <td>3.53</td>\n",
       "      <td>0.00</td>\n",
       "      <td>64.0</td>\n",
       "      <td>13.98</td>\n",
       "      <td>75.46</td>\n",
       "      <td>2.91</td>\n",
       "      <td>19.95</td>\n",
       "      <td>6.6</td>\n",
       "      <td>8.022000e+09</td>\n",
       "      <td>2900.0</td>\n",
       "      <td>74.3</td>\n",
       "      <td>456.781570</td>\n",
       "      <td>0.000000</td>\n",
       "    </tr>\n",
       "    <tr>\n",
       "      <th>219</th>\n",
       "      <td>538811.0</td>\n",
       "      <td>266000.0</td>\n",
       "      <td>1110.0</td>\n",
       "      <td>2.96</td>\n",
       "      <td>31.18</td>\n",
       "      <td>8.64</td>\n",
       "      <td>-0.06</td>\n",
       "      <td>66.0</td>\n",
       "      <td>57.50</td>\n",
       "      <td>61.90</td>\n",
       "      <td>4.15</td>\n",
       "      <td>19.95</td>\n",
       "      <td>6.6</td>\n",
       "      <td>9.065000e+08</td>\n",
       "      <td>2500.0</td>\n",
       "      <td>82.0</td>\n",
       "      <td>2.025605</td>\n",
       "      <td>0.004173</td>\n",
       "    </tr>\n",
       "    <tr>\n",
       "      <th>220</th>\n",
       "      <td>25408288.0</td>\n",
       "      <td>527968.0</td>\n",
       "      <td>1906.0</td>\n",
       "      <td>2.50</td>\n",
       "      <td>31.63</td>\n",
       "      <td>6.64</td>\n",
       "      <td>0.00</td>\n",
       "      <td>200.0</td>\n",
       "      <td>51.93</td>\n",
       "      <td>64.47</td>\n",
       "      <td>4.27</td>\n",
       "      <td>14.50</td>\n",
       "      <td>5.2</td>\n",
       "      <td>6.006000e+10</td>\n",
       "      <td>2300.0</td>\n",
       "      <td>32.3</td>\n",
       "      <td>48.124674</td>\n",
       "      <td>0.003610</td>\n",
       "    </tr>\n",
       "    <tr>\n",
       "      <th>221</th>\n",
       "      <td>14222233.0</td>\n",
       "      <td>752618.0</td>\n",
       "      <td>0.0</td>\n",
       "      <td>2.89</td>\n",
       "      <td>42.79</td>\n",
       "      <td>13.17</td>\n",
       "      <td>-0.75</td>\n",
       "      <td>440.0</td>\n",
       "      <td>68.58</td>\n",
       "      <td>51.51</td>\n",
       "      <td>5.81</td>\n",
       "      <td>3.60</td>\n",
       "      <td>5.9</td>\n",
       "      <td>2.436000e+10</td>\n",
       "      <td>1700.0</td>\n",
       "      <td>39.2</td>\n",
       "      <td>18.897014</td>\n",
       "      <td>0.000000</td>\n",
       "    </tr>\n",
       "    <tr>\n",
       "      <th>222</th>\n",
       "      <td>13182908.0</td>\n",
       "      <td>390757.0</td>\n",
       "      <td>0.0</td>\n",
       "      <td>4.38</td>\n",
       "      <td>32.41</td>\n",
       "      <td>11.40</td>\n",
       "      <td>22.76</td>\n",
       "      <td>570.0</td>\n",
       "      <td>27.25</td>\n",
       "      <td>53.86</td>\n",
       "      <td>3.58</td>\n",
       "      <td>7.00</td>\n",
       "      <td>6.6</td>\n",
       "      <td>7.366000e+09</td>\n",
       "      <td>600.0</td>\n",
       "      <td>38.6</td>\n",
       "      <td>33.736844</td>\n",
       "      <td>0.000000</td>\n",
       "    </tr>\n",
       "  </tbody>\n",
       "</table>\n",
       "</div>"
      ],
      "text/plain": [
       "        Pop2013  Area_sqkm  coastline_km  PopGrowthRate  BirthRate  DeathRate  \\\n",
       "218   2676740.0     5860.0           0.0           2.03      23.81       3.53   \n",
       "219    538811.0   266000.0        1110.0           2.96      31.18       8.64   \n",
       "220  25408288.0   527968.0        1906.0           2.50      31.63       6.64   \n",
       "221  14222233.0   752618.0           0.0           2.89      42.79      13.17   \n",
       "222  13182908.0   390757.0           0.0           4.38      32.41      11.40   \n",
       "\n",
       "     NetMigrationRate  MaternalMortalityRate    IMR  LifeExpectancy  \\\n",
       "218              0.00                   64.0  13.98           75.46   \n",
       "219             -0.06                   66.0  57.50           61.90   \n",
       "220              0.00                  200.0  51.93           64.47   \n",
       "221             -0.75                  440.0  68.58           51.51   \n",
       "222             22.76                  570.0  27.25           53.86   \n",
       "\n",
       "     TotalFertilityRate  AdultObesityRate  HealthExpend       GDP PPP  \\\n",
       "218                2.91             19.95           6.6  8.022000e+09   \n",
       "219                4.15             19.95           6.6  9.065000e+08   \n",
       "220                4.27             14.50           5.2  6.006000e+10   \n",
       "221                5.81              3.60           5.9  2.436000e+10   \n",
       "222                3.58              7.00           6.6  7.366000e+09   \n",
       "\n",
       "     GDP_PPP_percapita  Percent Urban     PopDens  Coast_Area_Ratio  \n",
       "218             2900.0           74.3  456.781570          0.000000  \n",
       "219             2500.0           82.0    2.025605          0.004173  \n",
       "220             2300.0           32.3   48.124674          0.003610  \n",
       "221             1700.0           39.2   18.897014          0.000000  \n",
       "222              600.0           38.6   33.736844          0.000000  "
      ]
     },
     "execution_count": 635,
     "metadata": {},
     "output_type": "execute_result"
    }
   ],
   "source": [
    "X.tail()"
   ]
  },
  {
   "cell_type": "code",
   "execution_count": 636,
   "metadata": {},
   "outputs": [],
   "source": [
    "from sklearn.datasets import make_classification\n",
    "from sklearn.svm import SVC"
   ]
  },
  {
   "cell_type": "code",
   "execution_count": 637,
   "metadata": {
    "scrolled": true
   },
   "outputs": [
    {
     "name": "stdout",
     "output_type": "stream",
     "text": [
      "Best Params: {'n_neighbors': 5, 'p': 1, 'weights': 'uniform'}\n",
      "Train F1: [0.59701493 0.49382716 0.52631579 0.33333333 0.54545455 0.        ]\n",
      "Test Classification Report:\n",
      "               precision    recall  f1-score   support\n",
      "\n",
      "       Africa       0.38      0.62      0.48         8\n",
      "         Asia       0.75      0.33      0.46         9\n",
      "       Europe       0.36      0.50      0.42         8\n",
      "North America       0.50      0.17      0.25         6\n",
      "      Oceania       0.25      0.50      0.33         2\n",
      "South America       0.00      0.00      0.00         1\n",
      "\n",
      "  avg / total       0.48      0.41      0.40        34\n",
      "\n",
      "Train Accuracy: 0.5079365079365079\tTest accuracy: 0.4117647058823529\n"
     ]
    },
    {
     "name": "stderr",
     "output_type": "stream",
     "text": [
      "C:\\Users\\Izzy\\Anaconda3\\lib\\site-packages\\sklearn\\metrics\\classification.py:1135: UndefinedMetricWarning: F-score is ill-defined and being set to 0.0 in labels with no predicted samples.\n",
      "  'precision', 'predicted', average, warn_for)\n",
      "C:\\Users\\Izzy\\Anaconda3\\lib\\site-packages\\sklearn\\metrics\\classification.py:1135: UndefinedMetricWarning: Precision and F-score are ill-defined and being set to 0.0 in labels with no predicted samples.\n",
      "  'precision', 'predicted', average, warn_for)\n"
     ]
    }
   ],
   "source": [
    "X_train, X_test, y_train, y_test = train_test_split(X, Y, test_size=0.15, random_state=18)\n",
    "clf = KNeighborsClassifier()\n",
    "gridsearch = GridSearchCV(clf, {\"n_neighbors\": [1, 3, 5, 7,], \"weights\": ['uniform', 'distance'], \n",
    "                                'p': [1, 2, 3]})\n",
    "gridsearch.fit(X_train, y_train)\n",
    "print(\"Best Params: {}\".format(gridsearch.best_params_, average=None))\n",
    "y_pred_train = gridsearch.predict(X_train)\n",
    "print(\"Train F1: {}\".format(f1_score(y_train, y_pred_train, average=None)))\n",
    "print(\"Test Classification Report:\")\n",
    "y_pred_test = gridsearch.predict(X_test)\n",
    "print(classification_report(y_test, y_pred_test))\n",
    "print(\"Train Accuracy: {}\\tTest accuracy: {}\".format(accuracy_score(y_train, y_pred_train),\n",
    "                                                     accuracy_score(y_test, y_pred_test)))"
   ]
  },
  {
   "cell_type": "code",
   "execution_count": 638,
   "metadata": {},
   "outputs": [],
   "source": [
    "def quantiles(var):\n",
    "    X[var+'q'] = pd.qcut(X[var] ,4, labels=[1,2,3,4]).astype(float)"
   ]
  },
  {
   "cell_type": "code",
   "execution_count": 639,
   "metadata": {},
   "outputs": [],
   "source": [
    "quantiles('IMR')\n",
    "quantiles('HealthExpend')\n",
    "quantiles('LifeExpectancy')\n",
    "quantiles('GDP_PPP_percapita')"
   ]
  },
  {
   "cell_type": "code",
   "execution_count": 640,
   "metadata": {},
   "outputs": [
    {
     "name": "stdout",
     "output_type": "stream",
     "text": [
      "<class 'pandas.core.frame.DataFrame'>\n",
      "RangeIndex: 223 entries, 0 to 222\n",
      "Data columns (total 22 columns):\n",
      "Pop2013                  223 non-null float64\n",
      "Area_sqkm                223 non-null float64\n",
      "coastline_km             223 non-null float64\n",
      "PopGrowthRate            223 non-null float64\n",
      "BirthRate                223 non-null float64\n",
      "DeathRate                223 non-null float64\n",
      "NetMigrationRate         223 non-null float64\n",
      "MaternalMortalityRate    223 non-null float64\n",
      "IMR                      223 non-null float64\n",
      "LifeExpectancy           223 non-null float64\n",
      "TotalFertilityRate       223 non-null float64\n",
      "AdultObesityRate         223 non-null float64\n",
      "HealthExpend             223 non-null float64\n",
      "GDP PPP                  223 non-null float64\n",
      "GDP_PPP_percapita        223 non-null float64\n",
      "Percent Urban            223 non-null float64\n",
      "PopDens                  223 non-null float64\n",
      "Coast_Area_Ratio         223 non-null float64\n",
      "IMRq                     223 non-null float64\n",
      "HealthExpendq            223 non-null float64\n",
      "LifeExpectancyq          223 non-null float64\n",
      "GDP_PPP_percapitaq       223 non-null float64\n",
      "dtypes: float64(22)\n",
      "memory usage: 38.4 KB\n"
     ]
    }
   ],
   "source": [
    "X.info()"
   ]
  },
  {
   "cell_type": "code",
   "execution_count": 641,
   "metadata": {},
   "outputs": [],
   "source": [
    "Xcat=X.copy()"
   ]
  },
  {
   "cell_type": "code",
   "execution_count": 642,
   "metadata": {},
   "outputs": [],
   "source": [
    "X['IMRq']*=-1\n",
    "X['advantage_score'] = X.loc[:, 'IMRq':'GDP_PPP_percapitaq'].sum(axis=1)"
   ]
  },
  {
   "cell_type": "code",
   "execution_count": 643,
   "metadata": {},
   "outputs": [
    {
     "data": {
      "text/html": [
       "<div>\n",
       "<style scoped>\n",
       "    .dataframe tbody tr th:only-of-type {\n",
       "        vertical-align: middle;\n",
       "    }\n",
       "\n",
       "    .dataframe tbody tr th {\n",
       "        vertical-align: top;\n",
       "    }\n",
       "\n",
       "    .dataframe thead th {\n",
       "        text-align: right;\n",
       "    }\n",
       "</style>\n",
       "<table border=\"1\" class=\"dataframe\">\n",
       "  <thead>\n",
       "    <tr style=\"text-align: right;\">\n",
       "      <th></th>\n",
       "      <th>Pop2013</th>\n",
       "      <th>Area_sqkm</th>\n",
       "      <th>coastline_km</th>\n",
       "      <th>PopGrowthRate</th>\n",
       "      <th>BirthRate</th>\n",
       "      <th>DeathRate</th>\n",
       "      <th>NetMigrationRate</th>\n",
       "      <th>MaternalMortalityRate</th>\n",
       "      <th>IMR</th>\n",
       "      <th>LifeExpectancy</th>\n",
       "      <th>...</th>\n",
       "      <th>GDP PPP</th>\n",
       "      <th>GDP_PPP_percapita</th>\n",
       "      <th>Percent Urban</th>\n",
       "      <th>PopDens</th>\n",
       "      <th>Coast_Area_Ratio</th>\n",
       "      <th>IMRq</th>\n",
       "      <th>HealthExpendq</th>\n",
       "      <th>LifeExpectancyq</th>\n",
       "      <th>GDP_PPP_percapitaq</th>\n",
       "      <th>advantage_score</th>\n",
       "    </tr>\n",
       "  </thead>\n",
       "  <tbody>\n",
       "    <tr>\n",
       "      <th>0</th>\n",
       "      <td>31108077.0</td>\n",
       "      <td>652230.0</td>\n",
       "      <td>0.0</td>\n",
       "      <td>2.25</td>\n",
       "      <td>39.05</td>\n",
       "      <td>14.35</td>\n",
       "      <td>-2.16</td>\n",
       "      <td>460.0</td>\n",
       "      <td>119.41</td>\n",
       "      <td>50.11</td>\n",
       "      <td>...</td>\n",
       "      <td>3.429000e+10</td>\n",
       "      <td>1100.0</td>\n",
       "      <td>23.5</td>\n",
       "      <td>47.694950</td>\n",
       "      <td>0.000000</td>\n",
       "      <td>-4.0</td>\n",
       "      <td>3.0</td>\n",
       "      <td>1.0</td>\n",
       "      <td>1.0</td>\n",
       "      <td>1.0</td>\n",
       "    </tr>\n",
       "    <tr>\n",
       "      <th>1</th>\n",
       "      <td>3011405.0</td>\n",
       "      <td>28748.0</td>\n",
       "      <td>362.0</td>\n",
       "      <td>0.29</td>\n",
       "      <td>12.57</td>\n",
       "      <td>6.36</td>\n",
       "      <td>-3.32</td>\n",
       "      <td>27.0</td>\n",
       "      <td>13.65</td>\n",
       "      <td>77.77</td>\n",
       "      <td>...</td>\n",
       "      <td>2.654000e+10</td>\n",
       "      <td>8200.0</td>\n",
       "      <td>52.0</td>\n",
       "      <td>104.751809</td>\n",
       "      <td>0.012592</td>\n",
       "      <td>-2.0</td>\n",
       "      <td>2.0</td>\n",
       "      <td>3.0</td>\n",
       "      <td>2.0</td>\n",
       "      <td>5.0</td>\n",
       "    </tr>\n",
       "    <tr>\n",
       "      <th>2</th>\n",
       "      <td>38087812.0</td>\n",
       "      <td>2381741.0</td>\n",
       "      <td>998.0</td>\n",
       "      <td>1.90</td>\n",
       "      <td>24.25</td>\n",
       "      <td>4.31</td>\n",
       "      <td>-0.93</td>\n",
       "      <td>97.0</td>\n",
       "      <td>22.57</td>\n",
       "      <td>76.18</td>\n",
       "      <td>...</td>\n",
       "      <td>2.774000e+11</td>\n",
       "      <td>7600.0</td>\n",
       "      <td>73.0</td>\n",
       "      <td>15.991584</td>\n",
       "      <td>0.000419</td>\n",
       "      <td>-3.0</td>\n",
       "      <td>1.0</td>\n",
       "      <td>3.0</td>\n",
       "      <td>2.0</td>\n",
       "      <td>3.0</td>\n",
       "    </tr>\n",
       "    <tr>\n",
       "      <th>3</th>\n",
       "      <td>54719.0</td>\n",
       "      <td>199.0</td>\n",
       "      <td>116.0</td>\n",
       "      <td>-0.40</td>\n",
       "      <td>22.84</td>\n",
       "      <td>4.62</td>\n",
       "      <td>-22.17</td>\n",
       "      <td>66.0</td>\n",
       "      <td>9.15</td>\n",
       "      <td>74.68</td>\n",
       "      <td>...</td>\n",
       "      <td>5.753000e+08</td>\n",
       "      <td>8000.0</td>\n",
       "      <td>93.0</td>\n",
       "      <td>274.969849</td>\n",
       "      <td>0.582915</td>\n",
       "      <td>-2.0</td>\n",
       "      <td>2.0</td>\n",
       "      <td>3.0</td>\n",
       "      <td>2.0</td>\n",
       "      <td>5.0</td>\n",
       "    </tr>\n",
       "    <tr>\n",
       "      <th>4</th>\n",
       "      <td>85293.0</td>\n",
       "      <td>468.0</td>\n",
       "      <td>0.0</td>\n",
       "      <td>0.22</td>\n",
       "      <td>8.88</td>\n",
       "      <td>6.67</td>\n",
       "      <td>0.00</td>\n",
       "      <td>66.0</td>\n",
       "      <td>3.73</td>\n",
       "      <td>82.58</td>\n",
       "      <td>...</td>\n",
       "      <td>3.163000e+09</td>\n",
       "      <td>37200.0</td>\n",
       "      <td>88.0</td>\n",
       "      <td>182.250000</td>\n",
       "      <td>0.000000</td>\n",
       "      <td>-1.0</td>\n",
       "      <td>3.0</td>\n",
       "      <td>4.0</td>\n",
       "      <td>4.0</td>\n",
       "      <td>10.0</td>\n",
       "    </tr>\n",
       "  </tbody>\n",
       "</table>\n",
       "<p>5 rows × 23 columns</p>\n",
       "</div>"
      ],
      "text/plain": [
       "      Pop2013  Area_sqkm  coastline_km  PopGrowthRate  BirthRate  DeathRate  \\\n",
       "0  31108077.0   652230.0           0.0           2.25      39.05      14.35   \n",
       "1   3011405.0    28748.0         362.0           0.29      12.57       6.36   \n",
       "2  38087812.0  2381741.0         998.0           1.90      24.25       4.31   \n",
       "3     54719.0      199.0         116.0          -0.40      22.84       4.62   \n",
       "4     85293.0      468.0           0.0           0.22       8.88       6.67   \n",
       "\n",
       "   NetMigrationRate  MaternalMortalityRate     IMR  LifeExpectancy  \\\n",
       "0             -2.16                  460.0  119.41           50.11   \n",
       "1             -3.32                   27.0   13.65           77.77   \n",
       "2             -0.93                   97.0   22.57           76.18   \n",
       "3            -22.17                   66.0    9.15           74.68   \n",
       "4              0.00                   66.0    3.73           82.58   \n",
       "\n",
       "        ...              GDP PPP  GDP_PPP_percapita  Percent Urban  \\\n",
       "0       ...         3.429000e+10             1100.0           23.5   \n",
       "1       ...         2.654000e+10             8200.0           52.0   \n",
       "2       ...         2.774000e+11             7600.0           73.0   \n",
       "3       ...         5.753000e+08             8000.0           93.0   \n",
       "4       ...         3.163000e+09            37200.0           88.0   \n",
       "\n",
       "      PopDens  Coast_Area_Ratio  IMRq  HealthExpendq  LifeExpectancyq  \\\n",
       "0   47.694950          0.000000  -4.0            3.0              1.0   \n",
       "1  104.751809          0.012592  -2.0            2.0              3.0   \n",
       "2   15.991584          0.000419  -3.0            1.0              3.0   \n",
       "3  274.969849          0.582915  -2.0            2.0              3.0   \n",
       "4  182.250000          0.000000  -1.0            3.0              4.0   \n",
       "\n",
       "   GDP_PPP_percapitaq  advantage_score  \n",
       "0                 1.0              1.0  \n",
       "1                 2.0              5.0  \n",
       "2                 2.0              3.0  \n",
       "3                 2.0              5.0  \n",
       "4                 4.0             10.0  \n",
       "\n",
       "[5 rows x 23 columns]"
      ]
     },
     "execution_count": 643,
     "metadata": {},
     "output_type": "execute_result"
    }
   ],
   "source": [
    "X.head()"
   ]
  },
  {
   "cell_type": "code",
   "execution_count": 644,
   "metadata": {},
   "outputs": [
    {
     "name": "stdout",
     "output_type": "stream",
     "text": [
      "0       1.0\n",
      "1       5.0\n",
      "2       3.0\n",
      "3       5.0\n",
      "4      10.0\n",
      "5       0.0\n",
      "6       8.0\n",
      "7       6.0\n",
      "8       7.0\n",
      "9       2.0\n",
      "10      6.0\n",
      "11     11.0\n",
      "12     11.0\n",
      "13      4.0\n",
      "14      7.0\n",
      "15      7.0\n",
      "16      0.0\n",
      "17      7.0\n",
      "18      6.0\n",
      "19     11.0\n",
      "20      3.0\n",
      "21     -1.0\n",
      "22      9.0\n",
      "23      2.0\n",
      "24      2.0\n",
      "25      8.0\n",
      "26      6.0\n",
      "27      6.0\n",
      "28      8.0\n",
      "29      6.0\n",
      "       ... \n",
      "193     9.0\n",
      "194     2.0\n",
      "195     0.0\n",
      "196     2.0\n",
      "197     4.0\n",
      "198     1.0\n",
      "199     4.0\n",
      "200     4.0\n",
      "201     4.0\n",
      "202     5.0\n",
      "203     2.0\n",
      "204     8.0\n",
      "205     3.0\n",
      "206     2.0\n",
      "207     5.0\n",
      "208     6.0\n",
      "209    11.0\n",
      "210    11.0\n",
      "211     8.0\n",
      "212     3.0\n",
      "213     3.0\n",
      "214     3.0\n",
      "215     4.0\n",
      "216     7.0\n",
      "217     7.0\n",
      "218     4.0\n",
      "219     0.0\n",
      "220     0.0\n",
      "221     0.0\n",
      "222     1.0\n",
      "Name: advantage_score, Length: 223, dtype: float64\n"
     ]
    }
   ],
   "source": [
    "print(X['advantage_score'])"
   ]
  },
  {
   "cell_type": "code",
   "execution_count": 645,
   "metadata": {},
   "outputs": [],
   "source": [
    "X.drop(columns = 'IMR', inplace=True)\n",
    "X.drop(columns = 'HealthExpend', inplace=True)\n",
    "X.drop(columns = 'LifeExpectancy', inplace=True)\n",
    "X.drop(columns = 'GDP_PPP_percapita', inplace=True)"
   ]
  },
  {
   "cell_type": "code",
   "execution_count": 646,
   "metadata": {},
   "outputs": [],
   "source": [
    "X.drop(columns = 'IMRq', inplace=True)\n",
    "X.drop(columns = 'HealthExpendq', inplace=True)\n",
    "X.drop(columns = 'LifeExpectancyq', inplace=True)\n",
    "X.drop(columns = 'GDP_PPP_percapitaq', inplace=True)"
   ]
  },
  {
   "cell_type": "code",
   "execution_count": 647,
   "metadata": {},
   "outputs": [
    {
     "data": {
      "text/html": [
       "<div>\n",
       "<style scoped>\n",
       "    .dataframe tbody tr th:only-of-type {\n",
       "        vertical-align: middle;\n",
       "    }\n",
       "\n",
       "    .dataframe tbody tr th {\n",
       "        vertical-align: top;\n",
       "    }\n",
       "\n",
       "    .dataframe thead th {\n",
       "        text-align: right;\n",
       "    }\n",
       "</style>\n",
       "<table border=\"1\" class=\"dataframe\">\n",
       "  <thead>\n",
       "    <tr style=\"text-align: right;\">\n",
       "      <th></th>\n",
       "      <th>Pop2013</th>\n",
       "      <th>Area_sqkm</th>\n",
       "      <th>coastline_km</th>\n",
       "      <th>PopGrowthRate</th>\n",
       "      <th>BirthRate</th>\n",
       "      <th>DeathRate</th>\n",
       "      <th>NetMigrationRate</th>\n",
       "      <th>MaternalMortalityRate</th>\n",
       "      <th>TotalFertilityRate</th>\n",
       "      <th>AdultObesityRate</th>\n",
       "      <th>GDP PPP</th>\n",
       "      <th>Percent Urban</th>\n",
       "      <th>PopDens</th>\n",
       "      <th>Coast_Area_Ratio</th>\n",
       "      <th>advantage_score</th>\n",
       "    </tr>\n",
       "  </thead>\n",
       "  <tbody>\n",
       "    <tr>\n",
       "      <th>0</th>\n",
       "      <td>31108077.0</td>\n",
       "      <td>652230.0</td>\n",
       "      <td>0.0</td>\n",
       "      <td>2.25</td>\n",
       "      <td>39.05</td>\n",
       "      <td>14.35</td>\n",
       "      <td>-2.16</td>\n",
       "      <td>460.0</td>\n",
       "      <td>5.54</td>\n",
       "      <td>2.2</td>\n",
       "      <td>3.429000e+10</td>\n",
       "      <td>23.5</td>\n",
       "      <td>47.694950</td>\n",
       "      <td>0.000000</td>\n",
       "      <td>1.0</td>\n",
       "    </tr>\n",
       "    <tr>\n",
       "      <th>1</th>\n",
       "      <td>3011405.0</td>\n",
       "      <td>28748.0</td>\n",
       "      <td>362.0</td>\n",
       "      <td>0.29</td>\n",
       "      <td>12.57</td>\n",
       "      <td>6.36</td>\n",
       "      <td>-3.32</td>\n",
       "      <td>27.0</td>\n",
       "      <td>1.49</td>\n",
       "      <td>21.3</td>\n",
       "      <td>2.654000e+10</td>\n",
       "      <td>52.0</td>\n",
       "      <td>104.751809</td>\n",
       "      <td>0.012592</td>\n",
       "      <td>5.0</td>\n",
       "    </tr>\n",
       "    <tr>\n",
       "      <th>2</th>\n",
       "      <td>38087812.0</td>\n",
       "      <td>2381741.0</td>\n",
       "      <td>998.0</td>\n",
       "      <td>1.90</td>\n",
       "      <td>24.25</td>\n",
       "      <td>4.31</td>\n",
       "      <td>-0.93</td>\n",
       "      <td>97.0</td>\n",
       "      <td>2.78</td>\n",
       "      <td>16.0</td>\n",
       "      <td>2.774000e+11</td>\n",
       "      <td>73.0</td>\n",
       "      <td>15.991584</td>\n",
       "      <td>0.000419</td>\n",
       "      <td>3.0</td>\n",
       "    </tr>\n",
       "    <tr>\n",
       "      <th>3</th>\n",
       "      <td>54719.0</td>\n",
       "      <td>199.0</td>\n",
       "      <td>116.0</td>\n",
       "      <td>-0.40</td>\n",
       "      <td>22.84</td>\n",
       "      <td>4.62</td>\n",
       "      <td>-22.17</td>\n",
       "      <td>66.0</td>\n",
       "      <td>3.04</td>\n",
       "      <td>74.6</td>\n",
       "      <td>5.753000e+08</td>\n",
       "      <td>93.0</td>\n",
       "      <td>274.969849</td>\n",
       "      <td>0.582915</td>\n",
       "      <td>5.0</td>\n",
       "    </tr>\n",
       "    <tr>\n",
       "      <th>4</th>\n",
       "      <td>85293.0</td>\n",
       "      <td>468.0</td>\n",
       "      <td>0.0</td>\n",
       "      <td>0.22</td>\n",
       "      <td>8.88</td>\n",
       "      <td>6.67</td>\n",
       "      <td>0.00</td>\n",
       "      <td>66.0</td>\n",
       "      <td>1.37</td>\n",
       "      <td>25.2</td>\n",
       "      <td>3.163000e+09</td>\n",
       "      <td>88.0</td>\n",
       "      <td>182.250000</td>\n",
       "      <td>0.000000</td>\n",
       "      <td>10.0</td>\n",
       "    </tr>\n",
       "  </tbody>\n",
       "</table>\n",
       "</div>"
      ],
      "text/plain": [
       "      Pop2013  Area_sqkm  coastline_km  PopGrowthRate  BirthRate  DeathRate  \\\n",
       "0  31108077.0   652230.0           0.0           2.25      39.05      14.35   \n",
       "1   3011405.0    28748.0         362.0           0.29      12.57       6.36   \n",
       "2  38087812.0  2381741.0         998.0           1.90      24.25       4.31   \n",
       "3     54719.0      199.0         116.0          -0.40      22.84       4.62   \n",
       "4     85293.0      468.0           0.0           0.22       8.88       6.67   \n",
       "\n",
       "   NetMigrationRate  MaternalMortalityRate  TotalFertilityRate  \\\n",
       "0             -2.16                  460.0                5.54   \n",
       "1             -3.32                   27.0                1.49   \n",
       "2             -0.93                   97.0                2.78   \n",
       "3            -22.17                   66.0                3.04   \n",
       "4              0.00                   66.0                1.37   \n",
       "\n",
       "   AdultObesityRate       GDP PPP  Percent Urban     PopDens  \\\n",
       "0               2.2  3.429000e+10           23.5   47.694950   \n",
       "1              21.3  2.654000e+10           52.0  104.751809   \n",
       "2              16.0  2.774000e+11           73.0   15.991584   \n",
       "3              74.6  5.753000e+08           93.0  274.969849   \n",
       "4              25.2  3.163000e+09           88.0  182.250000   \n",
       "\n",
       "   Coast_Area_Ratio  advantage_score  \n",
       "0          0.000000              1.0  \n",
       "1          0.012592              5.0  \n",
       "2          0.000419              3.0  \n",
       "3          0.582915              5.0  \n",
       "4          0.000000             10.0  "
      ]
     },
     "execution_count": 647,
     "metadata": {},
     "output_type": "execute_result"
    }
   ],
   "source": [
    "X.head()"
   ]
  },
  {
   "cell_type": "code",
   "execution_count": 648,
   "metadata": {
    "scrolled": true
   },
   "outputs": [
    {
     "name": "stdout",
     "output_type": "stream",
     "text": [
      "Best Params: {'n_neighbors': 5, 'p': 1, 'weights': 'uniform'}\n",
      "Train F1: [0.59701493 0.49382716 0.52631579 0.33333333 0.54545455 0.        ]\n",
      "Test Classification Report:\n",
      "               precision    recall  f1-score   support\n",
      "\n",
      "       Africa       0.38      0.62      0.48         8\n",
      "         Asia       0.75      0.33      0.46         9\n",
      "       Europe       0.36      0.50      0.42         8\n",
      "North America       0.50      0.17      0.25         6\n",
      "      Oceania       0.25      0.50      0.33         2\n",
      "South America       0.00      0.00      0.00         1\n",
      "\n",
      "  avg / total       0.48      0.41      0.40        34\n",
      "\n",
      "Train Accuracy: 0.5079365079365079\tTest accuracy: 0.4117647058823529\n"
     ]
    },
    {
     "name": "stderr",
     "output_type": "stream",
     "text": [
      "C:\\Users\\Izzy\\Anaconda3\\lib\\site-packages\\sklearn\\metrics\\classification.py:1135: UndefinedMetricWarning: F-score is ill-defined and being set to 0.0 in labels with no predicted samples.\n",
      "  'precision', 'predicted', average, warn_for)\n",
      "C:\\Users\\Izzy\\Anaconda3\\lib\\site-packages\\sklearn\\metrics\\classification.py:1135: UndefinedMetricWarning: Precision and F-score are ill-defined and being set to 0.0 in labels with no predicted samples.\n",
      "  'precision', 'predicted', average, warn_for)\n"
     ]
    }
   ],
   "source": [
    "X_train, X_test, y_train, y_test = train_test_split(X, Y, test_size=0.15, random_state=18)\n",
    "clf = KNeighborsClassifier()\n",
    "gridsearch = GridSearchCV(clf, {\"n_neighbors\": [1, 3, 5, 7,], \"weights\": ['uniform', 'distance'], \n",
    "                                'p': [1, 2, 3]})\n",
    "gridsearch.fit(X_train, y_train)\n",
    "print(\"Best Params: {}\".format(gridsearch.best_params_, average=None))\n",
    "y_pred_train = gridsearch.predict(X_train)\n",
    "print(\"Train F1: {}\".format(f1_score(y_train, y_pred_train, average=None)))\n",
    "print(\"Test Classification Report:\")\n",
    "y_pred_test = gridsearch.predict(X_test)\n",
    "print(classification_report(y_test, y_pred_test))\n",
    "print(\"Train Accuracy: {}\\tTest accuracy: {}\".format(accuracy_score(y_train, y_pred_train),\n",
    "                                                     accuracy_score(y_test, y_pred_test)))"
   ]
  },
  {
   "cell_type": "code",
   "execution_count": 651,
   "metadata": {},
   "outputs": [
    {
     "name": "stdout",
     "output_type": "stream",
     "text": [
      "1000 5 balanced\n"
     ]
    },
    {
     "ename": "ValueError",
     "evalue": "Mix of label input types (string and number)",
     "output_type": "error",
     "traceback": [
      "\u001b[1;31m---------------------------------------------------------------------------\u001b[0m",
      "\u001b[1;31mValueError\u001b[0m                                Traceback (most recent call last)",
      "\u001b[1;32m<ipython-input-651-93db78131c10>\u001b[0m in \u001b[0;36m<module>\u001b[1;34m()\u001b[0m\n\u001b[0;32m     12\u001b[0m             \u001b[0mrf\u001b[0m \u001b[1;33m=\u001b[0m \u001b[0mRandomForestClassifier\u001b[0m\u001b[1;33m(\u001b[0m\u001b[0mn_estimators\u001b[0m\u001b[1;33m=\u001b[0m\u001b[0mest\u001b[0m\u001b[1;33m,\u001b[0m \u001b[0mmax_depth\u001b[0m\u001b[1;33m=\u001b[0m\u001b[0mdepth\u001b[0m\u001b[1;33m,\u001b[0m \u001b[0moob_score\u001b[0m\u001b[1;33m=\u001b[0m\u001b[1;32mTrue\u001b[0m\u001b[1;33m,\u001b[0m \u001b[0mclass_weight\u001b[0m\u001b[1;33m=\u001b[0m\u001b[0mwgt\u001b[0m\u001b[1;33m)\u001b[0m\u001b[1;33m\u001b[0m\u001b[0m\n\u001b[0;32m     13\u001b[0m             \u001b[0mrf\u001b[0m\u001b[1;33m.\u001b[0m\u001b[0mfit\u001b[0m\u001b[1;33m(\u001b[0m\u001b[0mX_train\u001b[0m\u001b[1;33m,\u001b[0m \u001b[0my_train\u001b[0m\u001b[1;33m)\u001b[0m\u001b[1;33m\u001b[0m\u001b[0m\n\u001b[1;32m---> 14\u001b[1;33m             \u001b[0mf1\u001b[0m \u001b[1;33m=\u001b[0m \u001b[0mf1_score\u001b[0m\u001b[1;33m(\u001b[0m\u001b[0my_train\u001b[0m\u001b[1;33m,\u001b[0m \u001b[0mnp\u001b[0m\u001b[1;33m.\u001b[0m\u001b[0margmax\u001b[0m\u001b[1;33m(\u001b[0m\u001b[0mrf\u001b[0m\u001b[1;33m.\u001b[0m\u001b[0moob_decision_function_\u001b[0m \u001b[1;33m,\u001b[0m \u001b[1;36m1\u001b[0m\u001b[1;33m)\u001b[0m\u001b[1;33m,\u001b[0m \u001b[0maverage\u001b[0m\u001b[1;33m=\u001b[0m\u001b[1;34m'micro'\u001b[0m\u001b[1;33m)\u001b[0m\u001b[1;33m\u001b[0m\u001b[0m\n\u001b[0m\u001b[0;32m     15\u001b[0m             \u001b[1;32mif\u001b[0m \u001b[0mf1\u001b[0m \u001b[1;33m>\u001b[0m \u001b[0mbest_f1\u001b[0m\u001b[1;33m:\u001b[0m\u001b[1;33m\u001b[0m\u001b[0m\n\u001b[0;32m     16\u001b[0m                 \u001b[0mbest_f1\u001b[0m \u001b[1;33m=\u001b[0m \u001b[0mf1\u001b[0m\u001b[1;33m\u001b[0m\u001b[0m\n",
      "\u001b[1;32m~\\Anaconda3\\lib\\site-packages\\sklearn\\metrics\\classification.py\u001b[0m in \u001b[0;36mf1_score\u001b[1;34m(y_true, y_pred, labels, pos_label, average, sample_weight)\u001b[0m\n\u001b[0;32m    712\u001b[0m     return fbeta_score(y_true, y_pred, 1, labels=labels,\n\u001b[0;32m    713\u001b[0m                        \u001b[0mpos_label\u001b[0m\u001b[1;33m=\u001b[0m\u001b[0mpos_label\u001b[0m\u001b[1;33m,\u001b[0m \u001b[0maverage\u001b[0m\u001b[1;33m=\u001b[0m\u001b[0maverage\u001b[0m\u001b[1;33m,\u001b[0m\u001b[1;33m\u001b[0m\u001b[0m\n\u001b[1;32m--> 714\u001b[1;33m                        sample_weight=sample_weight)\n\u001b[0m\u001b[0;32m    715\u001b[0m \u001b[1;33m\u001b[0m\u001b[0m\n\u001b[0;32m    716\u001b[0m \u001b[1;33m\u001b[0m\u001b[0m\n",
      "\u001b[1;32m~\\Anaconda3\\lib\\site-packages\\sklearn\\metrics\\classification.py\u001b[0m in \u001b[0;36mfbeta_score\u001b[1;34m(y_true, y_pred, beta, labels, pos_label, average, sample_weight)\u001b[0m\n\u001b[0;32m    826\u001b[0m                                                  \u001b[0maverage\u001b[0m\u001b[1;33m=\u001b[0m\u001b[0maverage\u001b[0m\u001b[1;33m,\u001b[0m\u001b[1;33m\u001b[0m\u001b[0m\n\u001b[0;32m    827\u001b[0m                                                  \u001b[0mwarn_for\u001b[0m\u001b[1;33m=\u001b[0m\u001b[1;33m(\u001b[0m\u001b[1;34m'f-score'\u001b[0m\u001b[1;33m,\u001b[0m\u001b[1;33m)\u001b[0m\u001b[1;33m,\u001b[0m\u001b[1;33m\u001b[0m\u001b[0m\n\u001b[1;32m--> 828\u001b[1;33m                                                  sample_weight=sample_weight)\n\u001b[0m\u001b[0;32m    829\u001b[0m     \u001b[1;32mreturn\u001b[0m \u001b[0mf\u001b[0m\u001b[1;33m\u001b[0m\u001b[0m\n\u001b[0;32m    830\u001b[0m \u001b[1;33m\u001b[0m\u001b[0m\n",
      "\u001b[1;32m~\\Anaconda3\\lib\\site-packages\\sklearn\\metrics\\classification.py\u001b[0m in \u001b[0;36mprecision_recall_fscore_support\u001b[1;34m(y_true, y_pred, beta, labels, pos_label, average, warn_for, sample_weight)\u001b[0m\n\u001b[0;32m   1024\u001b[0m \u001b[1;33m\u001b[0m\u001b[0m\n\u001b[0;32m   1025\u001b[0m     \u001b[0my_type\u001b[0m\u001b[1;33m,\u001b[0m \u001b[0my_true\u001b[0m\u001b[1;33m,\u001b[0m \u001b[0my_pred\u001b[0m \u001b[1;33m=\u001b[0m \u001b[0m_check_targets\u001b[0m\u001b[1;33m(\u001b[0m\u001b[0my_true\u001b[0m\u001b[1;33m,\u001b[0m \u001b[0my_pred\u001b[0m\u001b[1;33m)\u001b[0m\u001b[1;33m\u001b[0m\u001b[0m\n\u001b[1;32m-> 1026\u001b[1;33m     \u001b[0mpresent_labels\u001b[0m \u001b[1;33m=\u001b[0m \u001b[0munique_labels\u001b[0m\u001b[1;33m(\u001b[0m\u001b[0my_true\u001b[0m\u001b[1;33m,\u001b[0m \u001b[0my_pred\u001b[0m\u001b[1;33m)\u001b[0m\u001b[1;33m\u001b[0m\u001b[0m\n\u001b[0m\u001b[0;32m   1027\u001b[0m \u001b[1;33m\u001b[0m\u001b[0m\n\u001b[0;32m   1028\u001b[0m     \u001b[1;32mif\u001b[0m \u001b[0maverage\u001b[0m \u001b[1;33m==\u001b[0m \u001b[1;34m'binary'\u001b[0m\u001b[1;33m:\u001b[0m\u001b[1;33m\u001b[0m\u001b[0m\n",
      "\u001b[1;32m~\\Anaconda3\\lib\\site-packages\\sklearn\\utils\\multiclass.py\u001b[0m in \u001b[0;36munique_labels\u001b[1;34m(*ys)\u001b[0m\n\u001b[0;32m    101\u001b[0m     \u001b[1;31m# Check that we don't mix string type with number type\u001b[0m\u001b[1;33m\u001b[0m\u001b[1;33m\u001b[0m\u001b[0m\n\u001b[0;32m    102\u001b[0m     \u001b[1;32mif\u001b[0m \u001b[1;33m(\u001b[0m\u001b[0mlen\u001b[0m\u001b[1;33m(\u001b[0m\u001b[0mset\u001b[0m\u001b[1;33m(\u001b[0m\u001b[0misinstance\u001b[0m\u001b[1;33m(\u001b[0m\u001b[0mlabel\u001b[0m\u001b[1;33m,\u001b[0m \u001b[0mstring_types\u001b[0m\u001b[1;33m)\u001b[0m \u001b[1;32mfor\u001b[0m \u001b[0mlabel\u001b[0m \u001b[1;32min\u001b[0m \u001b[0mys_labels\u001b[0m\u001b[1;33m)\u001b[0m\u001b[1;33m)\u001b[0m \u001b[1;33m>\u001b[0m \u001b[1;36m1\u001b[0m\u001b[1;33m)\u001b[0m\u001b[1;33m:\u001b[0m\u001b[1;33m\u001b[0m\u001b[0m\n\u001b[1;32m--> 103\u001b[1;33m         \u001b[1;32mraise\u001b[0m \u001b[0mValueError\u001b[0m\u001b[1;33m(\u001b[0m\u001b[1;34m\"Mix of label input types (string and number)\"\u001b[0m\u001b[1;33m)\u001b[0m\u001b[1;33m\u001b[0m\u001b[0m\n\u001b[0m\u001b[0;32m    104\u001b[0m \u001b[1;33m\u001b[0m\u001b[0m\n\u001b[0;32m    105\u001b[0m     \u001b[1;32mreturn\u001b[0m \u001b[0mnp\u001b[0m\u001b[1;33m.\u001b[0m\u001b[0marray\u001b[0m\u001b[1;33m(\u001b[0m\u001b[0msorted\u001b[0m\u001b[1;33m(\u001b[0m\u001b[0mys_labels\u001b[0m\u001b[1;33m)\u001b[0m\u001b[1;33m)\u001b[0m\u001b[1;33m\u001b[0m\u001b[0m\n",
      "\u001b[1;31mValueError\u001b[0m: Mix of label input types (string and number)"
     ]
    }
   ],
   "source": [
    "X_train, X_test, y_train, y_test = train_test_split(Xcat, Y, test_size=0.15, random_state=18)\n",
    "\n",
    "n_estimators = [1000, 750, 500]\n",
    "max_depth = [5, 10, 15]\n",
    "class_weights = ['balanced', None]\n",
    "best_f1 = 0\n",
    "\n",
    "for est in n_estimators:\n",
    "    for depth in max_depth:\n",
    "        for wgt in class_weights:\n",
    "            print(est, depth, wgt)\n",
    "            rf = RandomForestClassifier(n_estimators=est, max_depth=depth, oob_score=True, class_weight=wgt)\n",
    "            rf.fit(X_train, y_train)\n",
    "            f1 = f1_score(y_train, np.argmax(rf.oob_decision_function_ , 1), average='micro')\n",
    "            if f1 > best_f1:\n",
    "                best_f1 = f1\n",
    "                best_params = (est, depth, wgt)"
   ]
  },
  {
   "cell_type": "code",
   "execution_count": null,
   "metadata": {},
   "outputs": [],
   "source": [
    "print(\"Best OOB F1: {}\".format(best_f1))\n",
    "print(\"Best params: {}\".format(best_params))"
   ]
  },
  {
   "cell_type": "code",
   "execution_count": null,
   "metadata": {},
   "outputs": [],
   "source": [
    "rf = RandomForestClassifier(n_estimators=500, max_depth=7, class_weight=None)\n",
    "rf.fit(train, y_train)\n",
    "train_predictions5 = rf.predict(train)\n",
    "print(classification_report(y_train, train_predictions5))"
   ]
  },
  {
   "cell_type": "code",
   "execution_count": null,
   "metadata": {},
   "outputs": [],
   "source": [
    "f1_score(y_train, train_predictions5, average = 'macro')"
   ]
  },
  {
   "cell_type": "code",
   "execution_count": 561,
   "metadata": {},
   "outputs": [
    {
     "name": "stdout",
     "output_type": "stream",
     "text": [
      "<class 'pandas.core.frame.DataFrame'>\n",
      "RangeIndex: 223 entries, 0 to 222\n",
      "Data columns (total 22 columns):\n",
      "Pop2013                  223 non-null float64\n",
      "Area_sqkm                223 non-null float64\n",
      "coastline_km             223 non-null float64\n",
      "PopGrowthRate            223 non-null float64\n",
      "BirthRate                223 non-null float64\n",
      "DeathRate                223 non-null float64\n",
      "NetMigrationRate         223 non-null float64\n",
      "MaternalMortalityRate    223 non-null float64\n",
      "IMR                      223 non-null float64\n",
      "LifeExpectancy           223 non-null float64\n",
      "TotalFertilityRate       223 non-null float64\n",
      "AdultObesityRate         223 non-null float64\n",
      "HealthExpend             223 non-null float64\n",
      "GDP PPP                  223 non-null float64\n",
      "GDP_PPP_percapita        223 non-null float64\n",
      "Percent Urban            223 non-null float64\n",
      "PopDens                  223 non-null float64\n",
      "Coast_Area_Ratio         223 non-null float64\n",
      "IMRq                     223 non-null int32\n",
      "HealthExpendq            223 non-null int32\n",
      "LifeExpectancyq          223 non-null int32\n",
      "GDP_PPP_percapitaq       223 non-null int32\n",
      "dtypes: float64(18), int32(4)\n",
      "memory usage: 34.9 KB\n"
     ]
    }
   ],
   "source": [
    "Xcat.info()"
   ]
  },
  {
   "cell_type": "code",
   "execution_count": 607,
   "metadata": {},
   "outputs": [],
   "source": [
    "Y=str(Y)"
   ]
  },
  {
   "cell_type": "code",
   "execution_count": 612,
   "metadata": {},
   "outputs": [
    {
     "data": {
      "text/plain": [
       "(223, 15)"
      ]
     },
     "execution_count": 612,
     "metadata": {},
     "output_type": "execute_result"
    }
   ],
   "source": [
    "X.shape"
   ]
  },
  {
   "cell_type": "code",
   "execution_count": 650,
   "metadata": {},
   "outputs": [],
   "source": [
    "X=pd.DataFrame(X)"
   ]
  },
  {
   "cell_type": "code",
   "execution_count": null,
   "metadata": {},
   "outputs": [],
   "source": []
  }
 ],
 "metadata": {
  "kernelspec": {
   "display_name": "Python 3",
   "language": "python",
   "name": "python3"
  },
  "language_info": {
   "codemirror_mode": {
    "name": "ipython",
    "version": 3
   },
   "file_extension": ".py",
   "mimetype": "text/x-python",
   "name": "python",
   "nbconvert_exporter": "python",
   "pygments_lexer": "ipython3",
   "version": "3.6.5"
  }
 },
 "nbformat": 4,
 "nbformat_minor": 2
}
